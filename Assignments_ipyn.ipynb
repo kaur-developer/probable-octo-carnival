{
  "nbformat": 4,
  "nbformat_minor": 0,
  "metadata": {
    "colab": {
      "name": "Assignments.ipyn",
      "provenance": [],
      "collapsed_sections": [],
      "authorship_tag": "ABX9TyOD3UWPMGyJHkNtqzhcFMKv",
      "include_colab_link": true
    },
    "kernelspec": {
      "name": "python3",
      "display_name": "Python 3"
    }
  },
  "cells": [
    {
      "cell_type": "markdown",
      "metadata": {
        "id": "view-in-github",
        "colab_type": "text"
      },
      "source": [
        "<a href=\"https://colab.research.google.com/github/kaur-developer/probable-octo-carnival/blob/master/Assignments_ipyn.ipynb\" target=\"_parent\"><img src=\"https://colab.research.google.com/assets/colab-badge.svg\" alt=\"Open In Colab\"/></a>"
      ]
    },
    {
      "cell_type": "code",
      "metadata": {
        "id": "uRRqk0-vwkB7"
      },
      "source": [
        ""
      ],
      "execution_count": null,
      "outputs": []
    },
    {
      "cell_type": "markdown",
      "metadata": {
        "id": "aiPPSZY9CAbD"
      },
      "source": [
        "Assignment 1\r\n"
      ]
    },
    {
      "cell_type": "code",
      "metadata": {
        "colab": {
          "base_uri": "https://localhost:8080/"
        },
        "id": "ub3mfDzXCCWt",
        "outputId": "2074f090-6c51-4520-8da5-e7fb83d8d01d"
      },
      "source": [
        "list ({1,2,3})\r\n"
      ],
      "execution_count": 2,
      "outputs": [
        {
          "output_type": "execute_result",
          "data": {
            "text/plain": [
              "[1, 2, 3]"
            ]
          },
          "metadata": {
            "tags": []
          },
          "execution_count": 2
        }
      ]
    },
    {
      "cell_type": "code",
      "metadata": {
        "colab": {
          "base_uri": "https://localhost:8080/"
        },
        "id": "WmcNRJzEC9eH",
        "outputId": "ff629db4-b601-4db0-a44c-babe99696375"
      },
      "source": [
        "mylist = [\"alpha\", \"beta\",\"gamma\"]\r\n",
        "print(mylist)\r\n"
      ],
      "execution_count": 7,
      "outputs": [
        {
          "output_type": "stream",
          "text": [
            "['alpha', 'beta', 'gamma']\n"
          ],
          "name": "stdout"
        }
      ]
    },
    {
      "cell_type": "code",
      "metadata": {
        "colab": {
          "base_uri": "https://localhost:8080/"
        },
        "id": "AF2thTLFEECj",
        "outputId": "5edc0c5e-3422-4f3d-87c7-0f03143c2173"
      },
      "source": [
        "mylist = [\"a\",\"b\",\"c\"]\r\n",
        "print(len(mylist))"
      ],
      "execution_count": 8,
      "outputs": [
        {
          "output_type": "stream",
          "text": [
            "3\n"
          ],
          "name": "stdout"
        }
      ]
    },
    {
      "cell_type": "code",
      "metadata": {
        "colab": {
          "base_uri": "https://localhost:8080/"
        },
        "id": "P_8LB-VkEZgC",
        "outputId": "9ff5b66e-f2a9-42c0-d69f-bf560010355d"
      },
      "source": [
        "list1 = [\"1\",\"2\",\"3\"]\r\n",
        "list2 = [\"alpha\",\"beta\",\"gamma\"]\r\n",
        "list3 = [\"a\",\"b\",\"c\"]\r\n",
        "print(list1)\r\n",
        "print(list2)\r\n",
        "print(list3)\r\n"
      ],
      "execution_count": 13,
      "outputs": [
        {
          "output_type": "stream",
          "text": [
            "['1', '2', '3']\n",
            "['alpha', 'beta', 'gamma']\n",
            "['a', 'b', 'c']\n"
          ],
          "name": "stdout"
        }
      ]
    },
    {
      "cell_type": "code",
      "metadata": {
        "colab": {
          "base_uri": "https://localhost:8080/"
        },
        "id": "8xj51rKgFALJ",
        "outputId": "6af30ce3-b6b7-4956-dafc-2f7a62f74871"
      },
      "source": [
        "thislist = [\"apple\", \"mango\", \"cherry\"]\r\n",
        "print(type(thislist))"
      ],
      "execution_count": 14,
      "outputs": [
        {
          "output_type": "stream",
          "text": [
            "<class 'list'>\n"
          ],
          "name": "stdout"
        }
      ]
    },
    {
      "cell_type": "markdown",
      "metadata": {
        "id": "LLHRX9HcFQa4"
      },
      "source": [
        "Solution 2:"
      ]
    },
    {
      "cell_type": "code",
      "metadata": {
        "colab": {
          "base_uri": "https://localhost:8080/"
        },
        "id": "adn5LhlMFV50",
        "outputId": "23353dc4-ada3-4ddb-f643-0efcbb1b2d95"
      },
      "source": [
        "my_dict = {'name': 'Jack', 'age': 26}\r\n",
        "print(my_dict['name'])\r\n",
        "print(my_dict.get('age'))"
      ],
      "execution_count": 26,
      "outputs": [
        {
          "output_type": "stream",
          "text": [
            "Jack\n",
            "26\n"
          ],
          "name": "stdout"
        }
      ]
    },
    {
      "cell_type": "code",
      "metadata": {
        "colab": {
          "base_uri": "https://localhost:8080/"
        },
        "id": "mkazmJOcIUFo",
        "outputId": "d9c8e4a5-d63a-419e-b5e7-4703dea98991"
      },
      "source": [
        "original = { 1 : \"one\" , 2 : \"two\" }\r\n",
        "new = original.copy()\r\n",
        "print('Orignial' , original)\r\n",
        "print('new:' , new)"
      ],
      "execution_count": 27,
      "outputs": [
        {
          "output_type": "stream",
          "text": [
            "Orignial {1: 'one', 2: 'two'}\n",
            "new: {1: 'one', 2: 'two'}\n"
          ],
          "name": "stdout"
        }
      ]
    },
    {
      "cell_type": "code",
      "metadata": {
        "colab": {
          "base_uri": "https://localhost:8080/"
        },
        "id": "Ja18k612I3ub",
        "outputId": "40e7d461-07a8-4a01-a43e-60550aa7a45f"
      },
      "source": [
        "fruits = { \"mangoes\" : 2 , \"cherries\" : 3 , \"others\" : 0 }\r\n",
        "print(fruits.items())"
      ],
      "execution_count": 28,
      "outputs": [
        {
          "output_type": "stream",
          "text": [
            "dict_items([('mangoes', 2), ('cherries', 3), ('others', 0)])\n"
          ],
          "name": "stdout"
        }
      ]
    },
    {
      "cell_type": "code",
      "metadata": {
        "colab": {
          "base_uri": "https://localhost:8080/"
        },
        "id": "UsjJEmVYJb8g",
        "outputId": "a163d13e-56d0-40f6-a93c-69b0eeda6da0"
      },
      "source": [
        "fruits = { \"mangoes\" : 2 , \"cherries\" : 3 , \"others\" : 0 }\r\n",
        "print('Original fruits:' , fruits)\r\n",
        "del[fruits['others']]\r\n",
        "print('updated fruits:' , fruits)"
      ],
      "execution_count": 29,
      "outputs": [
        {
          "output_type": "stream",
          "text": [
            "Original fruits: {'mangoes': 2, 'cherries': 3, 'others': 0}\n",
            "updated fruits: {'mangoes': 2, 'cherries': 3}\n"
          ],
          "name": "stdout"
        }
      ]
    },
    {
      "cell_type": "code",
      "metadata": {
        "colab": {
          "base_uri": "https://localhost:8080/"
        },
        "id": "zHyVs84WJ-AL",
        "outputId": "5100e42c-9dae-4163-8dcb-5710c8472e8a"
      },
      "source": [
        "fruits = { \"mangoes\" : 2 , \"cherries\" : 3 , \"others\" : 0 }\r\n",
        "print(fruits.values())"
      ],
      "execution_count": 33,
      "outputs": [
        {
          "output_type": "stream",
          "text": [
            "dict_values([2, 3, 0])\n"
          ],
          "name": "stdout"
        }
      ]
    }
  ]
}